{
 "cells": [
  {
   "cell_type": "markdown",
   "metadata": {},
   "source": [
    "# Packages"
   ]
  },
  {
   "cell_type": "code",
   "execution_count": null,
   "metadata": {},
   "outputs": [],
   "source": [
    "import numpy as np\n",
    "import pandas as pd\n",
    "import seaborn as sns\n",
    "import matplotlib.pyplot as plt\n",
    "from sklearn.model_selection import train_test_split, GridSearchCV\n",
    "from sklearn.linear_model import ElasticNet, LogisticRegression\n",
    "from sklearn.model_selection import KFold, cross_val_predict\n",
    "from sklearn.neighbors import KNeighborsClassifier\n",
    "from sklearn.metrics import r2_score, mean_squared_error, accuracy_score, f1_score, roc_auc_score, precision_recall_curve, roc_curve, auc\n",
    "\n"
   ]
  },
  {
   "cell_type": "markdown",
   "metadata": {},
   "source": [
    "# load the dataset"
   ]
  },
  {
   "cell_type": "code",
   "execution_count": 33,
   "metadata": {},
   "outputs": [
    {
     "data": {
      "application/vnd.microsoft.datawrangler.viewer.v0+json": {
       "columns": [
        {
         "name": "index",
         "rawType": "object",
         "type": "string"
        },
        {
         "name": "age",
         "rawType": "float64",
         "type": "float"
        },
        {
         "name": "trestbps",
         "rawType": "float64",
         "type": "float"
        },
        {
         "name": "chol",
         "rawType": "float64",
         "type": "float"
        },
        {
         "name": "thalch",
         "rawType": "float64",
         "type": "float"
        },
        {
         "name": "oldpeak",
         "rawType": "float64",
         "type": "float"
        },
        {
         "name": "ca",
         "rawType": "float64",
         "type": "float"
        },
        {
         "name": "num",
         "rawType": "float64",
         "type": "float"
        }
       ],
       "conversionMethod": "pd.DataFrame",
       "ref": "ff33e9c1-4432-4515-833c-65244addf063",
       "rows": [
        [
         "count",
         "920.0",
         "861.0",
         "890.0",
         "865.0",
         "858.0",
         "309.0",
         "920.0"
        ],
        [
         "mean",
         "53.51086956521739",
         "132.13240418118468",
         "199.13033707865168",
         "137.5456647398844",
         "0.8787878787878788",
         "0.6763754045307443",
         "0.9956521739130435"
        ],
        [
         "std",
         "9.424685209576857",
         "19.066069518587476",
         "110.7808103532305",
         "25.926276492797594",
         "1.0912262483465298",
         "0.935653012559987",
         "1.142693403338037"
        ],
        [
         "min",
         "28.0",
         "0.0",
         "0.0",
         "60.0",
         "-2.6",
         "0.0",
         "0.0"
        ],
        [
         "25%",
         "47.0",
         "120.0",
         "175.0",
         "120.0",
         "0.0",
         "0.0",
         "0.0"
        ],
        [
         "50%",
         "54.0",
         "130.0",
         "223.0",
         "140.0",
         "0.5",
         "0.0",
         "1.0"
        ],
        [
         "75%",
         "60.0",
         "140.0",
         "268.0",
         "157.0",
         "1.5",
         "1.0",
         "2.0"
        ],
        [
         "max",
         "77.0",
         "200.0",
         "603.0",
         "202.0",
         "6.2",
         "3.0",
         "4.0"
        ]
       ],
       "shape": {
        "columns": 7,
        "rows": 8
       }
      },
      "text/html": [
       "<div>\n",
       "<style scoped>\n",
       "    .dataframe tbody tr th:only-of-type {\n",
       "        vertical-align: middle;\n",
       "    }\n",
       "\n",
       "    .dataframe tbody tr th {\n",
       "        vertical-align: top;\n",
       "    }\n",
       "\n",
       "    .dataframe thead th {\n",
       "        text-align: right;\n",
       "    }\n",
       "</style>\n",
       "<table border=\"1\" class=\"dataframe\">\n",
       "  <thead>\n",
       "    <tr style=\"text-align: right;\">\n",
       "      <th></th>\n",
       "      <th>age</th>\n",
       "      <th>trestbps</th>\n",
       "      <th>chol</th>\n",
       "      <th>thalch</th>\n",
       "      <th>oldpeak</th>\n",
       "      <th>ca</th>\n",
       "      <th>num</th>\n",
       "    </tr>\n",
       "  </thead>\n",
       "  <tbody>\n",
       "    <tr>\n",
       "      <th>count</th>\n",
       "      <td>920.000000</td>\n",
       "      <td>861.000000</td>\n",
       "      <td>890.000000</td>\n",
       "      <td>865.000000</td>\n",
       "      <td>858.000000</td>\n",
       "      <td>309.000000</td>\n",
       "      <td>920.000000</td>\n",
       "    </tr>\n",
       "    <tr>\n",
       "      <th>mean</th>\n",
       "      <td>53.510870</td>\n",
       "      <td>132.132404</td>\n",
       "      <td>199.130337</td>\n",
       "      <td>137.545665</td>\n",
       "      <td>0.878788</td>\n",
       "      <td>0.676375</td>\n",
       "      <td>0.995652</td>\n",
       "    </tr>\n",
       "    <tr>\n",
       "      <th>std</th>\n",
       "      <td>9.424685</td>\n",
       "      <td>19.066070</td>\n",
       "      <td>110.780810</td>\n",
       "      <td>25.926276</td>\n",
       "      <td>1.091226</td>\n",
       "      <td>0.935653</td>\n",
       "      <td>1.142693</td>\n",
       "    </tr>\n",
       "    <tr>\n",
       "      <th>min</th>\n",
       "      <td>28.000000</td>\n",
       "      <td>0.000000</td>\n",
       "      <td>0.000000</td>\n",
       "      <td>60.000000</td>\n",
       "      <td>-2.600000</td>\n",
       "      <td>0.000000</td>\n",
       "      <td>0.000000</td>\n",
       "    </tr>\n",
       "    <tr>\n",
       "      <th>25%</th>\n",
       "      <td>47.000000</td>\n",
       "      <td>120.000000</td>\n",
       "      <td>175.000000</td>\n",
       "      <td>120.000000</td>\n",
       "      <td>0.000000</td>\n",
       "      <td>0.000000</td>\n",
       "      <td>0.000000</td>\n",
       "    </tr>\n",
       "    <tr>\n",
       "      <th>50%</th>\n",
       "      <td>54.000000</td>\n",
       "      <td>130.000000</td>\n",
       "      <td>223.000000</td>\n",
       "      <td>140.000000</td>\n",
       "      <td>0.500000</td>\n",
       "      <td>0.000000</td>\n",
       "      <td>1.000000</td>\n",
       "    </tr>\n",
       "    <tr>\n",
       "      <th>75%</th>\n",
       "      <td>60.000000</td>\n",
       "      <td>140.000000</td>\n",
       "      <td>268.000000</td>\n",
       "      <td>157.000000</td>\n",
       "      <td>1.500000</td>\n",
       "      <td>1.000000</td>\n",
       "      <td>2.000000</td>\n",
       "    </tr>\n",
       "    <tr>\n",
       "      <th>max</th>\n",
       "      <td>77.000000</td>\n",
       "      <td>200.000000</td>\n",
       "      <td>603.000000</td>\n",
       "      <td>202.000000</td>\n",
       "      <td>6.200000</td>\n",
       "      <td>3.000000</td>\n",
       "      <td>4.000000</td>\n",
       "    </tr>\n",
       "  </tbody>\n",
       "</table>\n",
       "</div>"
      ],
      "text/plain": [
       "              age    trestbps        chol      thalch     oldpeak          ca  \\\n",
       "count  920.000000  861.000000  890.000000  865.000000  858.000000  309.000000   \n",
       "mean    53.510870  132.132404  199.130337  137.545665    0.878788    0.676375   \n",
       "std      9.424685   19.066070  110.780810   25.926276    1.091226    0.935653   \n",
       "min     28.000000    0.000000    0.000000   60.000000   -2.600000    0.000000   \n",
       "25%     47.000000  120.000000  175.000000  120.000000    0.000000    0.000000   \n",
       "50%     54.000000  130.000000  223.000000  140.000000    0.500000    0.000000   \n",
       "75%     60.000000  140.000000  268.000000  157.000000    1.500000    1.000000   \n",
       "max     77.000000  200.000000  603.000000  202.000000    6.200000    3.000000   \n",
       "\n",
       "              num  \n",
       "count  920.000000  \n",
       "mean     0.995652  \n",
       "std      1.142693  \n",
       "min      0.000000  \n",
       "25%      0.000000  \n",
       "50%      1.000000  \n",
       "75%      2.000000  \n",
       "max      4.000000  "
      ]
     },
     "execution_count": 33,
     "metadata": {},
     "output_type": "execute_result"
    }
   ],
   "source": [
    "# Load the dataset\n",
    "filepath = \"C:/Users/WA/New folder/BINF5507-Assignment1/BINF5507-Assignment2/data/heart_disease_uci.csv\"\n",
    "df = pd.read_csv(filepath)\n",
    "\n",
    "# Display first few rows\n",
    "df.head()\n",
    "df.describe()"
   ]
  },
  {
   "cell_type": "markdown",
   "metadata": {},
   "source": [
    "#  data preprocessing "
   ]
  },
  {
   "cell_type": "code",
   "execution_count": null,
   "metadata": {},
   "outputs": [
    {
     "name": "stdout",
     "output_type": "stream",
     "text": [
      "   age  sex   cp  trestbps   chol  fbs  restecg  thalch  exang  oldpeak  \\\n",
      "0   63  1.0  1.0     145.0  233.0  1.0      NaN   150.0    0.0      2.3   \n",
      "1   67  1.0  4.0     160.0  286.0  0.0      NaN   108.0    1.0      1.5   \n",
      "2   67  1.0  4.0     120.0  229.0  0.0      NaN   129.0    1.0      2.6   \n",
      "3   37  1.0  NaN     130.0  250.0  0.0      NaN   187.0    0.0      3.5   \n",
      "4   41  0.0  2.0     130.0  204.0  0.0      NaN   172.0    0.0      1.4   \n",
      "\n",
      "   slope   ca  thal  num  \n",
      "0    3.0  0.0   6.0  0.0  \n",
      "1    2.0  3.0   3.0  1.0  \n",
      "2    2.0  2.0   7.0  1.0  \n",
      "3    3.0  0.0   3.0  0.0  \n",
      "4    1.0  0.0   3.0  0.0  \n"
     ]
    }
   ],
   "source": [
    "\n",
    "#\n",
    "df['sex'] = df['sex'].str.lower().map({'male': 1, 'female': 0}).astype(float)\n",
    "# slope preprocessing\n",
    "# Encode 'slope': upsloping → 1, flat → 2, downsloping → 3\n",
    "df['slope'] = df['slope'].map({'upsloping': 1, 'flat': 2, 'downsloping': 3}).astype(float)\n",
    " #Encode 'exang' (exercise-induced angina): Yes → 1, No → 0\n",
    "df['exang'] = df['exang'].map({True: 1, False: 0}).astype(float)\n",
    "\n",
    "# Encode 'thal': Normal → 3, Fixed Defect → 6, Reversible Defect → 7\n",
    "df['thal'] = df['thal'].map({'normal': 3,'fixed defect': 6,'reversable defect': 7}).astype(float)\n",
    "\n",
    "# Encode 'cp' (chest pain type): \n",
    "df['cp'] = df['cp'].map({'typical angina' : 1,'atypical angina' : 2,'non-anginal pain': 3, 'asymptomatic': 4}).astype(float)\n",
    "\n",
    "# Encode 'restecg': False → 0, True → 1\n",
    "df['restecg'] = df['restecg'].map({False: 0, True: 1}).astype(float)\n",
    "# Encode 'fbs': False → 0, True → 1\n",
    "df['fbs'] = df['fbs'].map({False: 0, True: 1}).astype(float)\n",
    "\n",
    "# Process the target \"num\" column.\n",
    "df['num'] = df['num'].apply(lambda x: 0 if x == 0 else 1).astype(float)\n",
    "# remove the unneeded categorical data \n",
    "df = df.drop(columns=['dataset'])\n",
    "\n",
    "# Display the first few rows of the final DataFrame\n",
    "print(df.head())\n"
   ]
  },
  {
   "cell_type": "markdown",
   "metadata": {},
   "source": [
    "# remove duplicates and columns with more than 60% missing values"
   ]
  },
  {
   "cell_type": "code",
   "execution_count": null,
   "metadata": {},
   "outputs": [
    {
     "name": "stdout",
     "output_type": "stream",
     "text": [
      "age           0.000000\n",
      "sex           0.000000\n",
      "cp           22.137405\n",
      "trestbps      6.434024\n",
      "chol          3.162486\n",
      "fbs           9.814613\n",
      "restecg     100.000000\n",
      "thalch        5.997819\n",
      "exang         5.997819\n",
      "oldpeak       6.761178\n",
      "slope        33.478735\n",
      "ca           66.303162\n",
      "thal         52.671756\n",
      "num           0.000000\n",
      "dtype: float64\n",
      "Removed columns: ['restecg', 'ca']\n"
     ]
    },
    {
     "data": {
      "application/vnd.microsoft.datawrangler.viewer.v0+json": {
       "columns": [
        {
         "name": "index",
         "rawType": "object",
         "type": "string"
        },
        {
         "name": "age",
         "rawType": "float64",
         "type": "float"
        },
        {
         "name": "sex",
         "rawType": "float64",
         "type": "float"
        },
        {
         "name": "cp",
         "rawType": "float64",
         "type": "float"
        },
        {
         "name": "trestbps",
         "rawType": "float64",
         "type": "float"
        },
        {
         "name": "chol",
         "rawType": "float64",
         "type": "float"
        },
        {
         "name": "fbs",
         "rawType": "float64",
         "type": "float"
        },
        {
         "name": "thalch",
         "rawType": "float64",
         "type": "float"
        },
        {
         "name": "exang",
         "rawType": "float64",
         "type": "float"
        },
        {
         "name": "oldpeak",
         "rawType": "float64",
         "type": "float"
        },
        {
         "name": "slope",
         "rawType": "float64",
         "type": "float"
        },
        {
         "name": "thal",
         "rawType": "float64",
         "type": "float"
        },
        {
         "name": "num",
         "rawType": "float64",
         "type": "float"
        }
       ],
       "conversionMethod": "pd.DataFrame",
       "ref": "1b9deace-fbae-4a0a-a9c6-246afa7e96f4",
       "rows": [
        [
         "count",
         "917.0",
         "917.0",
         "714.0",
         "858.0",
         "888.0",
         "827.0",
         "862.0",
         "862.0",
         "855.0",
         "610.0",
         "434.0",
         "917.0"
        ],
        [
         "mean",
         "53.50381679389313",
         "0.7895310796074155",
         "3.3221288515406164",
         "132.13986013986013",
         "199.12274774774775",
         "0.1656590084643289",
         "137.53944315545243",
         "0.388631090487239",
         "0.8812865497076023",
         "1.7704918032786885",
         "5.087557603686636",
         "0.5528898582333697"
        ],
        [
         "std",
         "9.435325511727214",
         "0.40786414913925795",
         "1.0445278258073916",
         "19.074539555568894",
         "110.90275060047102",
         "0.37199923819923",
         "25.951445749846343",
         "0.48772217568844994",
         "1.0922339143461521",
         "0.6196943635389928",
         "1.9190745526702409",
         "0.4974661142216412"
        ],
        [
         "min",
         "28.0",
         "0.0",
         "1.0",
         "0.0",
         "0.0",
         "0.0",
         "60.0",
         "0.0",
         "-2.6",
         "1.0",
         "3.0",
         "0.0"
        ],
        [
         "25%",
         "47.0",
         "1.0",
         "2.0",
         "120.0",
         "175.0",
         "0.0",
         "120.0",
         "0.0",
         "0.0",
         "1.0",
         "3.0",
         "0.0"
        ],
        [
         "50%",
         "54.0",
         "1.0",
         "4.0",
         "130.0",
         "223.0",
         "0.0",
         "140.0",
         "0.0",
         "0.5",
         "2.0",
         "6.0",
         "1.0"
        ],
        [
         "75%",
         "60.0",
         "1.0",
         "4.0",
         "140.0",
         "268.0",
         "0.0",
         "157.0",
         "1.0",
         "1.5",
         "2.0",
         "7.0",
         "1.0"
        ],
        [
         "max",
         "77.0",
         "1.0",
         "4.0",
         "200.0",
         "603.0",
         "1.0",
         "202.0",
         "1.0",
         "6.2",
         "3.0",
         "7.0",
         "1.0"
        ]
       ],
       "shape": {
        "columns": 12,
        "rows": 8
       }
      },
      "text/html": [
       "<div>\n",
       "<style scoped>\n",
       "    .dataframe tbody tr th:only-of-type {\n",
       "        vertical-align: middle;\n",
       "    }\n",
       "\n",
       "    .dataframe tbody tr th {\n",
       "        vertical-align: top;\n",
       "    }\n",
       "\n",
       "    .dataframe thead th {\n",
       "        text-align: right;\n",
       "    }\n",
       "</style>\n",
       "<table border=\"1\" class=\"dataframe\">\n",
       "  <thead>\n",
       "    <tr style=\"text-align: right;\">\n",
       "      <th></th>\n",
       "      <th>age</th>\n",
       "      <th>sex</th>\n",
       "      <th>cp</th>\n",
       "      <th>trestbps</th>\n",
       "      <th>chol</th>\n",
       "      <th>fbs</th>\n",
       "      <th>thalch</th>\n",
       "      <th>exang</th>\n",
       "      <th>oldpeak</th>\n",
       "      <th>slope</th>\n",
       "      <th>thal</th>\n",
       "      <th>num</th>\n",
       "    </tr>\n",
       "  </thead>\n",
       "  <tbody>\n",
       "    <tr>\n",
       "      <th>count</th>\n",
       "      <td>917.000000</td>\n",
       "      <td>917.000000</td>\n",
       "      <td>714.000000</td>\n",
       "      <td>858.00000</td>\n",
       "      <td>888.000000</td>\n",
       "      <td>827.000000</td>\n",
       "      <td>862.000000</td>\n",
       "      <td>862.000000</td>\n",
       "      <td>855.000000</td>\n",
       "      <td>610.000000</td>\n",
       "      <td>434.000000</td>\n",
       "      <td>917.000000</td>\n",
       "    </tr>\n",
       "    <tr>\n",
       "      <th>mean</th>\n",
       "      <td>53.503817</td>\n",
       "      <td>0.789531</td>\n",
       "      <td>3.322129</td>\n",
       "      <td>132.13986</td>\n",
       "      <td>199.122748</td>\n",
       "      <td>0.165659</td>\n",
       "      <td>137.539443</td>\n",
       "      <td>0.388631</td>\n",
       "      <td>0.881287</td>\n",
       "      <td>1.770492</td>\n",
       "      <td>5.087558</td>\n",
       "      <td>0.552890</td>\n",
       "    </tr>\n",
       "    <tr>\n",
       "      <th>std</th>\n",
       "      <td>9.435326</td>\n",
       "      <td>0.407864</td>\n",
       "      <td>1.044528</td>\n",
       "      <td>19.07454</td>\n",
       "      <td>110.902751</td>\n",
       "      <td>0.371999</td>\n",
       "      <td>25.951446</td>\n",
       "      <td>0.487722</td>\n",
       "      <td>1.092234</td>\n",
       "      <td>0.619694</td>\n",
       "      <td>1.919075</td>\n",
       "      <td>0.497466</td>\n",
       "    </tr>\n",
       "    <tr>\n",
       "      <th>min</th>\n",
       "      <td>28.000000</td>\n",
       "      <td>0.000000</td>\n",
       "      <td>1.000000</td>\n",
       "      <td>0.00000</td>\n",
       "      <td>0.000000</td>\n",
       "      <td>0.000000</td>\n",
       "      <td>60.000000</td>\n",
       "      <td>0.000000</td>\n",
       "      <td>-2.600000</td>\n",
       "      <td>1.000000</td>\n",
       "      <td>3.000000</td>\n",
       "      <td>0.000000</td>\n",
       "    </tr>\n",
       "    <tr>\n",
       "      <th>25%</th>\n",
       "      <td>47.000000</td>\n",
       "      <td>1.000000</td>\n",
       "      <td>2.000000</td>\n",
       "      <td>120.00000</td>\n",
       "      <td>175.000000</td>\n",
       "      <td>0.000000</td>\n",
       "      <td>120.000000</td>\n",
       "      <td>0.000000</td>\n",
       "      <td>0.000000</td>\n",
       "      <td>1.000000</td>\n",
       "      <td>3.000000</td>\n",
       "      <td>0.000000</td>\n",
       "    </tr>\n",
       "    <tr>\n",
       "      <th>50%</th>\n",
       "      <td>54.000000</td>\n",
       "      <td>1.000000</td>\n",
       "      <td>4.000000</td>\n",
       "      <td>130.00000</td>\n",
       "      <td>223.000000</td>\n",
       "      <td>0.000000</td>\n",
       "      <td>140.000000</td>\n",
       "      <td>0.000000</td>\n",
       "      <td>0.500000</td>\n",
       "      <td>2.000000</td>\n",
       "      <td>6.000000</td>\n",
       "      <td>1.000000</td>\n",
       "    </tr>\n",
       "    <tr>\n",
       "      <th>75%</th>\n",
       "      <td>60.000000</td>\n",
       "      <td>1.000000</td>\n",
       "      <td>4.000000</td>\n",
       "      <td>140.00000</td>\n",
       "      <td>268.000000</td>\n",
       "      <td>0.000000</td>\n",
       "      <td>157.000000</td>\n",
       "      <td>1.000000</td>\n",
       "      <td>1.500000</td>\n",
       "      <td>2.000000</td>\n",
       "      <td>7.000000</td>\n",
       "      <td>1.000000</td>\n",
       "    </tr>\n",
       "    <tr>\n",
       "      <th>max</th>\n",
       "      <td>77.000000</td>\n",
       "      <td>1.000000</td>\n",
       "      <td>4.000000</td>\n",
       "      <td>200.00000</td>\n",
       "      <td>603.000000</td>\n",
       "      <td>1.000000</td>\n",
       "      <td>202.000000</td>\n",
       "      <td>1.000000</td>\n",
       "      <td>6.200000</td>\n",
       "      <td>3.000000</td>\n",
       "      <td>7.000000</td>\n",
       "      <td>1.000000</td>\n",
       "    </tr>\n",
       "  </tbody>\n",
       "</table>\n",
       "</div>"
      ],
      "text/plain": [
       "              age         sex          cp   trestbps        chol         fbs  \\\n",
       "count  917.000000  917.000000  714.000000  858.00000  888.000000  827.000000   \n",
       "mean    53.503817    0.789531    3.322129  132.13986  199.122748    0.165659   \n",
       "std      9.435326    0.407864    1.044528   19.07454  110.902751    0.371999   \n",
       "min     28.000000    0.000000    1.000000    0.00000    0.000000    0.000000   \n",
       "25%     47.000000    1.000000    2.000000  120.00000  175.000000    0.000000   \n",
       "50%     54.000000    1.000000    4.000000  130.00000  223.000000    0.000000   \n",
       "75%     60.000000    1.000000    4.000000  140.00000  268.000000    0.000000   \n",
       "max     77.000000    1.000000    4.000000  200.00000  603.000000    1.000000   \n",
       "\n",
       "           thalch       exang     oldpeak       slope        thal         num  \n",
       "count  862.000000  862.000000  855.000000  610.000000  434.000000  917.000000  \n",
       "mean   137.539443    0.388631    0.881287    1.770492    5.087558    0.552890  \n",
       "std     25.951446    0.487722    1.092234    0.619694    1.919075    0.497466  \n",
       "min     60.000000    0.000000   -2.600000    1.000000    3.000000    0.000000  \n",
       "25%    120.000000    0.000000    0.000000    1.000000    3.000000    0.000000  \n",
       "50%    140.000000    0.000000    0.500000    2.000000    6.000000    1.000000  \n",
       "75%    157.000000    1.000000    1.500000    2.000000    7.000000    1.000000  \n",
       "max    202.000000    1.000000    6.200000    3.000000    7.000000    1.000000  "
      ]
     },
     "execution_count": 4,
     "metadata": {},
     "output_type": "execute_result"
    }
   ],
   "source": [
    "# remove duplicates\n",
    "df = df.drop_duplicates().reset_index(drop=True)\n",
    "# Check missing values\n",
    "\n",
    "missing_percentage = df.isnull().sum() / len(df) * 100\n",
    "print(missing_percentage)\n",
    "# Set the threshold for missing values (60%)\n",
    "threshold = 0.6  \n",
    "\n",
    "# Find columns where the percentage of missing values is greater than 60%\n",
    "cols_to_drop = df.columns[df.isnull().mean() > threshold]\n",
    "\n",
    "# Drop those columns\n",
    "df = df.drop(columns=cols_to_drop)\n",
    "\n",
    "# Print removed columns\n",
    "print(f\"Removed columns: {list(cols_to_drop)}\")\n",
    "# remove the NANs as the linear regression model didn't work with any Nan\n",
    "df = df.dropna()\n",
    "\n",
    "\n",
    "df.describe()\n"
   ]
  },
  {
   "cell_type": "code",
   "execution_count": null,
   "metadata": {},
   "outputs": [
    {
     "name": "stdout",
     "output_type": "stream",
     "text": [
      "age         0\n",
      "sex         0\n",
      "cp          0\n",
      "trestbps    0\n",
      "fbs         0\n",
      "thalch      0\n",
      "exang       0\n",
      "oldpeak     0\n",
      "slope       0\n",
      "thal        0\n",
      "num         0\n",
      "dtype: int64\n",
      "age         0\n",
      "sex         0\n",
      "cp          0\n",
      "trestbps    0\n",
      "fbs         0\n",
      "thalch      0\n",
      "exang       0\n",
      "oldpeak     0\n",
      "slope       0\n",
      "thal        0\n",
      "num         0\n",
      "dtype: int64\n"
     ]
    }
   ],
   "source": [
    "\n",
    "x = df.drop(columns=['chol'])   # Independent and object variables\n",
    "y = df['chol']  # Dependent variable (target)\n",
    "print(X_train.isnull().sum())  # Check for NaN values\n",
    "print(np.isinf(X_train).sum())  # Check for infinite values\n",
    "\n",
    "# Split data into training and testing sets\n",
    "X_train, X_test, y_train, y_test = train_test_split( x , y, test_size=0.2, random_state=42)\n",
    "\n",
    "\n",
    "# Linear Regression Model\n",
    "lr_model = LinearRegression()\n",
    "lr_model.fit(X_train, y_train)\n",
    "\n",
    "# Predict on test data\n",
    "y_pred_lr = lr_model.predict(X_test)\n",
    "\n",
    "\n",
    "\n",
    "\n",
    "\n",
    "\n",
    "\n",
    "\n"
   ]
  },
  {
   "cell_type": "markdown",
   "metadata": {},
   "source": [
    "# Evaluate the model"
   ]
  },
  {
   "cell_type": "code",
   "execution_count": null,
   "metadata": {},
   "outputs": [
    {
     "name": "stdout",
     "output_type": "stream",
     "text": [
      "Linear Regression R² Score: 0.1620\n",
      "Linear Regression RMSE: 9903.8167\n"
     ]
    }
   ],
   "source": [
    "\n",
    "\n",
    "r2_lr = r2_score(y_test, y_pred_lr)\n",
    "rmse_lr = mean_squared_error(y_test, y_pred_lr)\n",
    "\n",
    "print(f\"Linear Regression R² Score: {r2_lr:.4f}\")  # Higher is better (max = 1)\n",
    "print(f\"Linear Regression RMSE: {rmse_lr:.4f}\")  # Lower is better\n",
    "\n"
   ]
  },
  {
   "cell_type": "markdown",
   "metadata": {},
   "source": [
    "# # ElasticNet Regression Model"
   ]
  },
  {
   "cell_type": "code",
   "execution_count": null,
   "metadata": {},
   "outputs": [
    {
     "name": "stdout",
     "output_type": "stream",
     "text": [
      "Best parameters found: {'alpha': 0.1, 'l1_ratio': 0.7}\n",
      "Best cross-validation R² score: 0.06105011788977888\n",
      "ElasticNet Test R² Score: 0.1627\n",
      "ElasticNet Test RMSE: 99.4765\n"
     ]
    }
   ],
   "source": [
    "\n",
    "\n",
    "# Define the parameter grid: adjust these ranges as appropriate for your dataset\n",
    "param_grid = {\n",
    "    'alpha': [0.001, 0.01, 0.1, 1, 10],\n",
    "    'l1_ratio': [0.1, 0.3, 0.5, 0.7, 0.9]\n",
    "}\n",
    "\n",
    "# Initialize an ElasticNet model\n",
    "elastic = ElasticNet(max_iter=10000)\n",
    "\n",
    "# Set up GridSearchCV\n",
    "grid_search = GridSearchCV(estimator=elastic,\n",
    "                           param_grid=param_grid,\n",
    "                           cv=5,               # 5-fold cross-validation\n",
    "                           scoring='r2',       # Using R² score to evaluate performance\n",
    "                           n_jobs=-1)          # Use all available cores\n",
    "\n",
    "# Fit grid search to your training data\n",
    "grid_search.fit(X_train, y_train)\n",
    "\n",
    "# Display the best parameters and best cross-validated R² score\n",
    "print(\"Best parameters found:\", grid_search.best_params_)\n",
    "print(\"Best cross-validation R² score:\", grid_search.best_score_)\n",
    "\n",
    "# Use the best model from grid search for predictions\n",
    "best_model = grid_search.best_estimator_\n",
    "y_pred_en = best_model.predict(X_test)\n",
    "\n",
    "# Evaluate on the test set\n",
    "r2_en = r2_score(y_test, y_pred_en)\n",
    "rmse_en = np.sqrt(mean_squared_error(y_test, y_pred_en))\n",
    "\n",
    "print(f\"ElasticNet Test R² Score: {r2_en:.4f}\")\n",
    "print(f\"ElasticNet Test RMSE: {rmse_en:.4f}\")\n"
   ]
  },
  {
   "cell_type": "markdown",
   "metadata": {},
   "source": [
    "# Heatmap of R2 and RMSE\n"
   ]
  },
  {
   "cell_type": "code",
   "execution_count": null,
   "metadata": {},
   "outputs": [
    {
     "data": {
      "image/png": "[encoded data removed]",
      "text/plain": [
       "<Figure size 1400x600 with 4 Axes>"
      ]
     },
     "metadata": {},
     "output_type": "display_data"
    }
   ],
   "source": [
    "\n",
    "\n",
    "# Define the parameter grid\n",
    "alphas = [0.001, 0.01, 0.1, 1, 10]\n",
    "l1_ratios = [0.1, 0.3, 0.5, 0.7, 0.9]\n",
    "\n",
    "# Prepare a list to store the results\n",
    "results = []\n",
    "\n",
    "# Set up a cross-validation strategy (5-fold CV)\n",
    "cv = KFold(n_splits=5, shuffle=True, random_state=42)\n",
    "\n",
    "# Loop over all combinations of alpha and l1_ratio\n",
    "for alpha in alphas:\n",
    "    for l1_ratio in l1_ratios:\n",
    "        # Initialize the ElasticNet model with current parameters\n",
    "        model = ElasticNet(alpha=alpha, l1_ratio=l1_ratio, max_iter=10000, random_state=42)\n",
    "        \n",
    "        # Use cross_val_predict to generate cross-validated predictions on X_train\n",
    "        y_pred = cross_val_predict(model, X_train, y_train, cv=cv)\n",
    "        \n",
    "        # Calculate the R² score and RMSE on the training set predictions\n",
    "        r2 = r2_score(y_train, y_pred)\n",
    "        rmse = np.sqrt(mean_squared_error(y_train, y_pred))\n",
    "        \n",
    "        # Store the results\n",
    "        results.append({\n",
    "            'alpha': alpha,\n",
    "            'l1_ratio': l1_ratio,\n",
    "            'R2': r2,\n",
    "            'RMSE': rmse\n",
    "        })\n",
    "\n",
    "# Convert the results list to a DataFrame\n",
    "results_df = pd.DataFrame(results)\n",
    "\n",
    "# Pivot the results DataFrame to get matrices for heatmaps\n",
    "pivot_r2 = results_df.pivot(index='alpha', columns='l1_ratio', values='R2')\n",
    "pivot_rmse = results_df.pivot(index='alpha', columns='l1_ratio', values='RMSE')\n",
    "\n",
    "# Create the heatmaps\n",
    "plt.figure(figsize=(14, 6))\n",
    "\n",
    "# Heatmap for R² scores\n",
    "plt.subplot(1, 2, 1)\n",
    "sns.heatmap(pivot_r2, annot=True, fmt=\".4f\", cmap='viridis', cbar_kws={'label': 'R² Score'})\n",
    "plt.title(\"Heatmap of R² Scores\")\n",
    "plt.xlabel(\"l1_ratio\")\n",
    "plt.ylabel(\"alpha\")\n",
    "\n",
    "# Heatmap for RMSE values\n",
    "plt.subplot(1, 2, 2)\n",
    "sns.heatmap(pivot_rmse, annot=True, fmt=\".2f\", cmap='viridis', cbar_kws={'label': 'RMSE'})\n",
    "plt.title(\"Heatmap of RMSE\")\n",
    "plt.xlabel(\"l1_ratio\")\n",
    "plt.ylabel(\"alpha\")\n",
    "\n",
    "plt.tight_layout()\n",
    "plt.show()\n"
   ]
  },
  {
   "cell_type": "markdown",
   "metadata": {},
   "source": [
    "# Best model based on R²"
   ]
  },
  {
   "cell_type": "code",
   "execution_count": 27,
   "metadata": {},
   "outputs": [
    {
     "name": "stdout",
     "output_type": "stream",
     "text": [
      "Best model based on R²:\n",
      "     alpha  l1_ratio        R2       RMSE\n",
      "13    0.1       0.7  0.088328  104.22933\n"
     ]
    }
   ],
   "source": [
    "# results_df is the DataFrame with R2 scores for each combination\n",
    "best_r2 = results_df['R2'].max()\n",
    "best_model_info = results_df[results_df['R2'] == best_r2]\n",
    "print(\"Best model based on R²:\\n\", best_model_info)\n"
   ]
  },
  {
   "cell_type": "markdown",
   "metadata": {},
   "source": [
    "# Classification Models"
   ]
  },
  {
   "cell_type": "code",
   "execution_count": null,
   "metadata": {},
   "outputs": [
    {
     "name": "stdout",
     "output_type": "stream",
     "text": [
      "Best Parameters: {'penalty': 'l1', 'solver': 'liblinear'}\n",
      "Best Score: 1.0\n"
     ]
    }
   ],
   "source": [
    "\n",
    "### 3. Classification Models\n",
    "# Logistic Regression (Hyperparameter tuning)\n",
    "y_classification = (df[\"num\"] > 0).astype(int)  # Convert num to binary target\n",
    "\n",
    "# Split data into training and testing sets\n",
    "X_train_clf, X_test_clf, y_train_clf, y_test_clf = train_test_split(x , y_classification, test_size=0.2, random_state=42)\n",
    "# Initialize logistic regression\n",
    "logreg = LogisticRegression(max_iter=5000)\n",
    "# param_grid = {\"penalty\": [\"l1\", \"l2\"], \"solver\": [\"liblinear\", \"saga\"]}\n",
    "\n",
    "\n",
    "param_grid = [\n",
    "    {\"penalty\": [\"l1\"], \"solver\": [\"liblinear\", \"saga\"]},  # l1 works with liblinear & saga\n",
    "    {\"penalty\": [\"l2\"], \"solver\": [\"liblinear\", \"saga\", \"lbfgs\", \"sag\", \"newton-cg\"]},  # l2 works with more solvers\n",
    "]\n",
    "\n",
    "\n",
    "\n",
    "#Perform grid search\n",
    "logreg_cv = GridSearchCV(logreg, param_grid, scoring=\"accuracy\", cv=5)\n",
    "logreg_cv.fit(X_train_clf, y_train_clf)\n",
    "# Best parameters and score\n",
    "best_logreg = logreg_cv.best_estimator_\n",
    "y_pred_log = best_logreg.predict(X_test_clf)\n",
    "\n",
    "print(\"Best Parameters:\", logreg_cv.best_params_)\n",
    "print(\"Best Score:\", logreg_cv.best_score_)\n",
    "\n",
    "\n"
   ]
  },
  {
   "cell_type": "markdown",
   "metadata": {},
   "source": [
    "# k-NN Classifier"
   ]
  },
  {
   "cell_type": "code",
   "execution_count": null,
   "metadata": {},
   "outputs": [
    {
     "name": "stdout",
     "output_type": "stream",
     "text": [
      "Best k-NN model based on F1-score: k=10, F1-score=0.68\n"
     ]
    }
   ],
   "source": [
    "\n",
    "test_neighbors = [1, 5, 10]\n",
    "knn_scores = {}\n",
    "\n",
    "for n in test_neighbors:\n",
    "    knn = KNeighborsClassifier(n_neighbors=n)\n",
    "    knn.fit(X_train_clf, y_train_clf)\n",
    "    y_pred_knn = knn.predict(X_test_clf)\n",
    "    \n",
    "    acc = accuracy_score(y_test_clf, y_pred_knn)\n",
    "    f1 = f1_score(y_test_clf, y_pred_knn, average='weighted')  # Use 'macro' or 'micro' as needed\n",
    "    \n",
    "    knn_scores[n] = {'accuracy': acc, 'f1_score': f1}  # Store both accuracy and F1 score\n",
    "\n",
    "# Find the best k based on F1-score\n",
    "best_k = max(knn_scores, key=lambda k: knn_scores[k]['f1_score'])\n",
    "\n",
    "print(f\"Best k-NN model based on F1-score: k={best_k}, F1-score={knn_scores[best_k]['f1_score']:.2f}\")\n"
   ]
  },
  {
   "cell_type": "markdown",
   "metadata": {},
   "source": [
    "# Evaluation Metrics and Visualization"
   ]
  },
  {
   "cell_type": "code",
   "execution_count": 31,
   "metadata": {},
   "outputs": [
    {
     "data": {
      "image/png": "[encoded data removed]",
      "text/plain": [
       "<Figure size 1000x400 with 2 Axes>"
      ]
     },
     "metadata": {},
     "output_type": "display_data"
    }
   ],
   "source": [
    "### 4. Evaluation Metrics and Visualization\n",
    "# Compute AUROC & AUPRC for Logistic Regression\n",
    "log_probs = best_logreg.predict_proba(X_test_clf)[:, 1]\n",
    "fpr, tpr, _ = roc_curve(y_test_clf, log_probs)\n",
    "roc_auc = auc(fpr, tpr)\n",
    "\n",
    "precision, recall, _ = precision_recall_curve(y_test_clf, log_probs)\n",
    "pr_auc = auc(recall, precision)\n",
    "\n",
    "plt.figure(figsize=(10, 4))\n",
    "\n",
    "# AUROC Curve\n",
    "plt.subplot(1, 2, 1)\n",
    "plt.plot(fpr, tpr, label=f\"AUROC = {roc_auc:.2f}\")\n",
    "plt.xlabel(\"False Positive Rate\")\n",
    "plt.ylabel(\"True Positive Rate\")\n",
    "plt.title(\"ROC Curve\")\n",
    "plt.legend()\n",
    "\n",
    "# AUPRC Curve\n",
    "plt.subplot(1, 2, 2)\n",
    "plt.plot(recall, precision, label=f\"AUPRC = {pr_auc:.2f}\")\n",
    "plt.xlabel(\"Recall\")\n",
    "plt.ylabel(\"Precision\")\n",
    "plt.title(\"Precision-Recall Curve\")\n",
    "plt.legend()\n",
    "\n",
    "plt.show()"
   ]
  }
 ],
 "metadata": {
  "kernelspec": {
   "display_name": "default",
   "language": "python",
   "name": "python3"
  },
  "language_info": {
   "codemirror_mode": {
    "name": "ipython",
    "version": 3
   },
   "file_extension": ".py",
   "mimetype": "text/x-python",
   "name": "python",
   "nbconvert_exporter": "python",
   "pygments_lexer": "ipython3",
   "version": "3.9.21"
  }
 },
 "nbformat": 4,
 "nbformat_minor": 2
}
